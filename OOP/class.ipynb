{
 "cells": [
  {
   "cell_type": "markdown",
   "metadata": {},
   "source": [
    "# PYTHON CLASSESS/OBJECTS"
   ]
  },
  {
   "cell_type": "markdown",
   "metadata": {},
   "source": [
    "## Class Attributes, Constructors, Instance Attricbutes and Class Methods Explained"
   ]
  },
  {
   "cell_type": "markdown",
   "metadata": {},
   "source": [
    "##### CLASS ATTRIBUTES"
   ]
  },
  {
   "cell_type": "code",
   "execution_count": 1,
   "metadata": {},
   "outputs": [],
   "source": [
    "class Person:\n",
    "    name = \"skinny\" #class attribute"
   ]
  },
  {
   "cell_type": "code",
   "execution_count": 2,
   "metadata": {},
   "outputs": [
    {
     "data": {
      "text/plain": [
       "'skinny'"
      ]
     },
     "execution_count": 2,
     "metadata": {},
     "output_type": "execute_result"
    }
   ],
   "source": [
    "# accessing the class attributes \n",
    "Person.name"
   ]
  },
  {
   "cell_type": "code",
   "execution_count": 4,
   "metadata": {},
   "outputs": [
    {
     "data": {
      "text/plain": [
       "'skinny'"
      ]
     },
     "execution_count": 4,
     "metadata": {},
     "output_type": "execute_result"
    }
   ],
   "source": [
    "details = Person()\n",
    "details.name"
   ]
  },
  {
   "cell_type": "markdown",
   "metadata": {},
   "source": [
    "### Constructors "
   ]
  },
  {
   "cell_type": "code",
   "execution_count": 5,
   "metadata": {},
   "outputs": [],
   "source": [
    "class Person:\n",
    "    def __init__(self):\n",
    "        print(\"Construcor invoked\")\n"
   ]
  },
  {
   "cell_type": "code",
   "execution_count": 6,
   "metadata": {},
   "outputs": [
    {
     "name": "stdout",
     "output_type": "stream",
     "text": [
      "Construcor invoked\n"
     ]
    }
   ],
   "source": [
    "details1 = Person()"
   ]
  },
  {
   "cell_type": "markdown",
   "metadata": {},
   "source": [
    "### INSTANCE ATTRIBUTES "
   ]
  },
  {
   "cell_type": "code",
   "execution_count": 7,
   "metadata": {},
   "outputs": [],
   "source": [
    "class Person:\n",
    "    nationality= \"Kenya\" #class attributes\n",
    "    def __init__(self): #constructor \n",
    "        self.name=\"james\" #instance attributes \n",
    "        self.age=43 #instance attributes "
   ]
  },
  {
   "cell_type": "code",
   "execution_count": 11,
   "metadata": {},
   "outputs": [
    {
     "data": {
      "text/plain": [
       "'james'"
      ]
     },
     "execution_count": 11,
     "metadata": {},
     "output_type": "execute_result"
    }
   ],
   "source": [
    "p1 =Person()\n",
    "p1.name\n",
    "# p1.age"
   ]
  },
  {
   "cell_type": "code",
   "execution_count": 13,
   "metadata": {},
   "outputs": [
    {
     "data": {
      "text/plain": [
       "'NZIOKI'"
      ]
     },
     "execution_count": 13,
     "metadata": {},
     "output_type": "execute_result"
    }
   ],
   "source": [
    "# setting the values using the dot notation \n",
    "\n",
    "p2 = Person\n",
    "p2.name = \"NZIOKI\" #assigning value to instance \n",
    "p2.name"
   ]
  },
  {
   "cell_type": "code",
   "execution_count": 14,
   "metadata": {},
   "outputs": [
    {
     "data": {
      "text/plain": [
       "76"
      ]
     },
     "execution_count": 14,
     "metadata": {},
     "output_type": "execute_result"
    }
   ],
   "source": [
    "p2.age=76 #assigning value to instace attribute \n",
    "p2.age"
   ]
  },
  {
   "cell_type": "code",
   "execution_count": 16,
   "metadata": {},
   "outputs": [],
   "source": [
    "# Setting attributes value\n",
    "class Person:\n",
    "    #name & age parameters passed in costrucor \n",
    "    def __init__(self, name, age, gpa):\n",
    "        self.name =name\n",
    "        self.age = age\n",
    "        self.gpa = gpa"
   ]
  },
  {
   "cell_type": "code",
   "execution_count": 19,
   "metadata": {},
   "outputs": [
    {
     "data": {
      "text/plain": [
       "3.1"
      ]
     },
     "execution_count": 19,
     "metadata": {},
     "output_type": "execute_result"
    }
   ],
   "source": [
    "p1=Person(\"Nzioki\", 65, 3.1)\n",
    "p1.name\n",
    "p1.age\n",
    "p1.gpa"
   ]
  },
  {
   "cell_type": "code",
   "execution_count": 20,
   "metadata": {},
   "outputs": [],
   "source": [
    "# Setting Values of Instance Attributes \"if \n",
    "#the values are not provided, the default value will be assigned\"\n",
    "\n",
    "class Person:\n",
    "    def __init__(self, name=\"J.Okumu\", age=37, gpa=6.9):\n",
    "        self.name=name\n",
    "        self.age=age\n",
    "        self.gpa=gpa\n",
    "        "
   ]
  },
  {
   "cell_type": "code",
   "execution_count": 23,
   "metadata": {},
   "outputs": [
    {
     "data": {
      "text/plain": [
       "6.9"
      ]
     },
     "execution_count": 23,
     "metadata": {},
     "output_type": "execute_result"
    }
   ],
   "source": [
    "p1 =Person()\n",
    "p1.name\n",
    "p1.age\n",
    "p1.gpa"
   ]
  },
  {
   "cell_type": "markdown",
   "metadata": {},
   "source": [
    "## CLASS METHODS "
   ]
  },
  {
   "cell_type": "markdown",
   "metadata": {},
   "source": [
    "A python function in a class is called class methods\n",
    "methods are defined using the def keyword\n",
    "each method must have a self as the first parameter, which refers to calling the instance \n",
    ">self is just a conventional name for the first argument of a method in the class.\n",
    ">a method defined as myMethod(self, a, b) should be called as x.myMethod (a,b) for the object x of the class"
   ]
  },
  {
   "cell_type": "code",
   "execution_count": 27,
   "metadata": {},
   "outputs": [],
   "source": [
    "# here we have a method named displayInfo\n",
    "\n",
    "class Person:\n",
    "    def displayInfo(self): #class method\n",
    "        print(\"Personal information will be displayed\")"
   ]
  },
  {
   "cell_type": "code",
   "execution_count": 28,
   "metadata": {},
   "outputs": [
    {
     "name": "stdout",
     "output_type": "stream",
     "text": [
      "Personal information will be displayed\n"
     ]
    }
   ],
   "source": [
    "# The above method can be called as a normal function \n",
    "\n",
    "p=Person()\n",
    "p.displayInfo()"
   ]
  },
  {
   "cell_type": "markdown",
   "metadata": {},
   "source": [
    "combining the knowledge for class constructors and methods to access instance attributes using the self parameter\n"
   ]
  },
  {
   "cell_type": "code",
   "execution_count": 31,
   "metadata": {},
   "outputs": [],
   "source": [
    "class Person:\n",
    "    def __init__(self, name, age, status, nationality): #class constructor \n",
    "        self.name=name\n",
    "        self.age=age\n",
    "        self.status=status\n",
    "        self.nationality=nationality\n",
    "    \n",
    "    def displayInfo(self): #class method\n",
    "        print(\"My name is \", self.name, \"I am \",self.age, \"years old. I am \", self.status, \"and from \", self.nationality)"
   ]
  },
  {
   "cell_type": "code",
   "execution_count": 32,
   "metadata": {},
   "outputs": [
    {
     "name": "stdout",
     "output_type": "stream",
     "text": [
      "My name is  Jackson I am  76 years old. I am  single and from  kenya\n"
     ]
    }
   ],
   "source": [
    "# Calling A method\n",
    "# Let's Call/Invoke the displayInfo method\n",
    "\n",
    "p = Person(\"Jackson\", 76, \"single\", \"kenya\" )\n",
    "p.displayInfo()"
   ]
  }
 ],
 "metadata": {
  "kernelspec": {
   "display_name": "Python 3",
   "language": "python",
   "name": "python3"
  },
  "language_info": {
   "codemirror_mode": {
    "name": "ipython",
    "version": 3
   },
   "file_extension": ".py",
   "mimetype": "text/x-python",
   "name": "python",
   "nbconvert_exporter": "python",
   "pygments_lexer": "ipython3",
   "version": "3.11.8"
  }
 },
 "nbformat": 4,
 "nbformat_minor": 2
}
